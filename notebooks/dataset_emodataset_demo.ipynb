{
 "cells": [
  {
   "cell_type": "code",
   "execution_count": 1,
   "id": "e64daeb3",
   "metadata": {},
   "outputs": [],
   "source": [
    "import pandas as pd\n",
    "import numpy as np\n"
   ]
  },
  {
   "cell_type": "code",
   "execution_count": 2,
   "id": "b276e00d",
   "metadata": {},
   "outputs": [],
   "source": [
    "dataset_path = r'C:\\Users\\stirl\\datasets\\AffectiveComputing\\Emodataset'"
   ]
  },
  {
   "cell_type": "code",
   "execution_count": 6,
   "id": "78960d6e",
   "metadata": {},
   "outputs": [
    {
     "data": {
      "text/plain": [
       "{'anger', 'contempt', 'disgust', 'fear', 'happy', 'neutral', 'sad', 'surprise'}"
      ]
     },
     "execution_count": 6,
     "metadata": {},
     "output_type": "execute_result"
    }
   ],
   "source": [
    "# \n",
    "df = pd.read_csv(f'{dataset_path}/test_labels.csv')\n",
    "set(df['label'])"
   ]
  }
 ],
 "metadata": {
  "kernelspec": {
   "display_name": ".venv",
   "language": "python",
   "name": "python3"
  },
  "language_info": {
   "codemirror_mode": {
    "name": "ipython",
    "version": 3
   },
   "file_extension": ".py",
   "mimetype": "text/x-python",
   "name": "python",
   "nbconvert_exporter": "python",
   "pygments_lexer": "ipython3",
   "version": "3.10.18"
  }
 },
 "nbformat": 4,
 "nbformat_minor": 5
}
