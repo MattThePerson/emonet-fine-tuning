{
 "cells": [
  {
   "cell_type": "code",
   "execution_count": null,
   "id": "58f5dca5",
   "metadata": {},
   "outputs": [],
   "source": [
    "import torch"
   ]
  },
  {
   "cell_type": "code",
   "execution_count": 59,
   "id": "19809c7c",
   "metadata": {},
   "outputs": [
    {
     "name": "stdout",
     "output_type": "stream",
     "text": [
      "x:      [2. 4.]\n",
      "\n",
      "iteration: 1\n",
      "y:     tensor(-3., grad_fn=<RsubBackward1>)\n",
      "grad:  [-2.5 -4.5]\n",
      "x:     [4.5 8.5]\n",
      "\n",
      "iteration: 1\n",
      "y:     tensor(-42.7500, grad_fn=<RsubBackward1>)\n",
      "grad:  [-5. -9.]\n",
      "x:     [ 9.5 17.5]\n",
      "\n",
      "iteration: 1\n",
      "y:     tensor(-201.7500, grad_fn=<RsubBackward1>)\n",
      "grad:  [-10. -18.]\n",
      "x:     [19.5 35.5]\n",
      "\n",
      "iteration: 1\n",
      "y:     tensor(-837.7500, grad_fn=<RsubBackward1>)\n",
      "grad:  [-20. -36.]\n",
      "x:     [39.5 71.5]\n",
      "\n",
      "iteration: 1\n",
      "y:     tensor(-3381.7500, grad_fn=<RsubBackward1>)\n",
      "grad:  [-40. -72.]\n",
      "x:     [ 79.5 143.5]\n",
      "\n",
      "iteration: 1\n",
      "y:     tensor(-13557.7500, grad_fn=<RsubBackward1>)\n",
      "grad:  [ -80. -144.]\n",
      "x:     [159.5 287.5]\n",
      "\n",
      "iteration: 1\n",
      "y:     tensor(-54261.7500, grad_fn=<RsubBackward1>)\n",
      "grad:  [-160. -288.]\n",
      "x:     [319.5 575.5]\n",
      "\n",
      "iteration: 1\n",
      "y:     tensor(-217077.7500, grad_fn=<RsubBackward1>)\n",
      "grad:  [-320. -576.]\n",
      "x:     [ 639.5 1151.5]\n",
      "\n",
      "iteration: 1\n",
      "y:     tensor(-868341.7500, grad_fn=<RsubBackward1>)\n",
      "grad:  [ -640. -1152.]\n",
      "x:     [1279.5 2303.5]\n",
      "\n",
      "iteration: 1\n",
      "y:     tensor(-3473397.5000, grad_fn=<RsubBackward1>)\n",
      "grad:  [-1280. -2304.]\n",
      "x:     [2559.5 4607.5]\n"
     ]
    }
   ],
   "source": [
    "\n",
    "x = torch.Tensor([2.0, 4.0])\n",
    "x.requires_grad = True\n",
    "\n",
    "print('x:     ', x.detach().numpy())\n",
    "\n",
    "for i in range(10):\n",
    "    print('\\niteration:', + 1)\n",
    "    y = 10.0 - (x*x+x).mean()\n",
    "    print('y:    ', y)\n",
    "    y.backward()\n",
    "    print('grad: ', x.grad.numpy())\n",
    "    # x.grad.zero_()\n",
    "    with torch.no_grad():\n",
    "        x -= x.grad\n",
    "    print('x:    ', x.detach().numpy())\n",
    "    x.grad.zero_()\n"
   ]
  }
 ],
 "metadata": {
  "kernelspec": {
   "display_name": ".venv",
   "language": "python",
   "name": "python3"
  },
  "language_info": {
   "codemirror_mode": {
    "name": "ipython",
    "version": 3
   },
   "file_extension": ".py",
   "mimetype": "text/x-python",
   "name": "python",
   "nbconvert_exporter": "python",
   "pygments_lexer": "ipython3",
   "version": "3.10.18"
  }
 },
 "nbformat": 4,
 "nbformat_minor": 5
}
